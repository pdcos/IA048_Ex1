{
 "cells": [
  {
   "cell_type": "code",
   "execution_count": 30,
   "metadata": {},
   "outputs": [],
   "source": [
    "import pandas as pd\n",
    "import numpy as np\n",
    "from sklearn.linear_model import LinearRegression\n"
   ]
  },
  {
   "cell_type": "code",
   "execution_count": 29,
   "metadata": {},
   "outputs": [
    {
     "name": "stdout",
     "output_type": "stream",
     "text": [
      "Dimensoes Treino: (3500, 2)\n",
      "Dimensoes Validacao: (750, 2)\n",
      "Dimensoes Teste: (750, 2)\n"
     ]
    }
   ],
   "source": [
    "dataset = pd.read_csv(\"mackeyglass.csv\")\n",
    "df_train = dataset[:-1500]\n",
    "df_validation = dataset[-1500:-750]\n",
    "df_test = dataset[-750:]\n",
    "\n",
    "print(f\"Dimensoes Treino: {df_train.shape}\")\n",
    "print(f\"Dimensoes Validacao: {df_validation.shape}\")\n",
    "print(f\"Dimensoes Teste: {df_test.shape}\")"
   ]
  },
  {
   "cell_type": "code",
   "execution_count": 47,
   "metadata": {},
   "outputs": [],
   "source": [
    "class TimeSeriesDataLoader():\n",
    "    \"\"\"\n",
    "    Classe responsável por transformar o dataset de uma série temporal em \n",
    "    matrizes que podem ser utilizadas numa regressão linear.\n",
    "    \"\"\"\n",
    "    def __init__(self, k_attributes:int, df_dataset:pd.DataFrame):\n",
    "        \"\"\"\n",
    "        Entradas:\n",
    "            k_attributes (int): Número de entradas da janela da série temporal\n",
    "            df_dataset (pd.DataFrame): DataFrame contendo a série temporal lida\n",
    "            de um arquivo .csv\n",
    "        \"\"\"\n",
    "        self.k_attributes = k_attributes\n",
    "        self.df_dataset = df_dataset\n",
    "\n",
    "    def get_data(self):\n",
    "        \"\"\"\n",
    "        Saídas:\n",
    "            x (np.array): Matrix com K colunas compostas de K atributos de janela de predição\n",
    "            y (np.array): Matrix contendo os valores de target\n",
    "        \"\"\"\n",
    "        \n",
    "        p_values = self.df_dataset[\"p\"]\n",
    "        # n_indices é o número máximo de linhas (exemplos de treinamento) que o dataset nos fornece\n",
    "        n_indices = len(p_values) - self.k_attributes \n",
    "        x, y = [], []\n",
    "        # Percorre todas as janelas de K elementos dentro da série temporal\n",
    "        for index in range(0,n_indices):\n",
    "            x.append(p_values[index:(index + self.k_attributes)])\n",
    "            y.append(p_values.iloc[index + self.k_attributes])\n",
    "        x = np.array(x)\n",
    "        y = np.array(y)\n",
    "        return x, y\n",
    "\n",
    "\n",
    "train_loader = TimeSeriesDataLoader(7, df_train)\n",
    "x_train, y_train = train_loader.get_data()"
   ]
  }
 ],
 "metadata": {
  "kernelspec": {
   "display_name": "Python 3.8.9 64-bit",
   "language": "python",
   "name": "python3"
  },
  "language_info": {
   "codemirror_mode": {
    "name": "ipython",
    "version": 3
   },
   "file_extension": ".py",
   "mimetype": "text/x-python",
   "name": "python",
   "nbconvert_exporter": "python",
   "pygments_lexer": "ipython3",
   "version": "3.8.9"
  },
  "orig_nbformat": 4,
  "vscode": {
   "interpreter": {
    "hash": "31f2aee4e71d21fbe5cf8b01ff0e069b9275f58929596ceb00d14d90e3e16cd6"
   }
  }
 },
 "nbformat": 4,
 "nbformat_minor": 2
}
