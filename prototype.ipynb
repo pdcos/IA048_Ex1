{
 "cells": [
  {
   "cell_type": "code",
   "execution_count": 47,
   "metadata": {},
   "outputs": [],
   "source": [
    "import pandas as pd\n",
    "import numpy as np\n",
    "from sklearn.linear_model import LinearRegression\n",
    "from sklearn.metrics import mean_squared_error\n"
   ]
  },
  {
   "cell_type": "code",
   "execution_count": 3,
   "metadata": {},
   "outputs": [
    {
     "name": "stdout",
     "output_type": "stream",
     "text": [
      "Dimensoes Treino: (3500, 2)\n",
      "Dimensoes Validacao: (750, 2)\n",
      "Dimensoes Teste: (750, 2)\n"
     ]
    }
   ],
   "source": [
    "dataset = pd.read_csv(\"mackeyglass.csv\")\n",
    "df_train = dataset[:-1500]\n",
    "df_validation = dataset[-1500:-750]\n",
    "df_test = dataset[-750:]\n",
    "\n",
    "print(f\"Dimensoes Treino: {df_train.shape}\")\n",
    "print(f\"Dimensoes Validacao: {df_validation.shape}\")\n",
    "print(f\"Dimensoes Teste: {df_test.shape}\")"
   ]
  },
  {
   "cell_type": "code",
   "execution_count": 35,
   "metadata": {},
   "outputs": [
    {
     "name": "stdout",
     "output_type": "stream",
     "text": [
      "K: 3, L: 7\n"
     ]
    }
   ],
   "source": [
    "class TimeSeriesDataLoader():\n",
    "    \"\"\"\n",
    "    Classe responsável por transformar o dataset de uma série temporal em \n",
    "    matrizes que podem ser utilizadas numa regressão linear.\n",
    "    \"\"\"\n",
    "    def __init__(self, k_attributes:int, l_prevision:int, df_dataset:pd.DataFrame):\n",
    "        \"\"\"\n",
    "        Entradas:\n",
    "            k_attributes (int): Número de entradas da janela da série temporal\n",
    "            df_dataset (pd.DataFrame): DataFrame contendo a série temporal lida\n",
    "            de um arquivo .csv\n",
    "        \"\"\"\n",
    "        self.k_attributes = k_attributes\n",
    "        self.df_dataset = df_dataset\n",
    "        self.l_prevision = l_prevision\n",
    "\n",
    "    def get_data(self):\n",
    "        \"\"\"\n",
    "        Saídas:\n",
    "            x (np.array): Matrix com K colunas compostas de K atributos de janela de predição\n",
    "            y (np.array): Matrix contendo os valores de target\n",
    "        \"\"\"\n",
    "        \n",
    "        p_values = self.df_dataset[\"p\"]\n",
    "        # n_indices é o número máximo de linhas (exemplos de treinamento) que o dataset nos fornece\n",
    "        n_indices = len(p_values) - self.k_attributes - self.l_prevision + 1\n",
    "        x, y = [], []\n",
    "        # Percorre todas as janelas de K elementos dentro da série temporal\n",
    "        for index in range(0,n_indices):\n",
    "            x.append(p_values[index:(index + self.k_attributes)])\n",
    "            y.append(p_values.iloc[index + self.k_attributes + self.l_prevision -1])\n",
    "        x = np.array(x)\n",
    "        y = np.array(y)\n",
    "        return x, y\n",
    "\n",
    "\n",
    "K = int(input())\n",
    "L = int(input())\n",
    "print(f\"K: {K}, L: {L}\")\n",
    "train_loader = TimeSeriesDataLoader(K, L, df_train)\n",
    "x_train, y_train = train_loader.get_data()\n",
    "train_loader = TimeSeriesDataLoader(K, L, df_validation)\n",
    "x_validation, y_validation = train_loader.get_data()\n",
    "\n"
   ]
  },
  {
   "cell_type": "code",
   "execution_count": 51,
   "metadata": {},
   "outputs": [
    {
     "name": "stdout",
     "output_type": "stream",
     "text": [
      "Train: 0.0016694719107774418, Validation 0.0016077060042981452\n"
     ]
    }
   ],
   "source": [
    "reg = LinearRegression().fit(x_train, y_train)\n",
    "train_prediction = reg.predict(x_train)\n",
    "validation_prediction = reg.predict(x_validation)\n",
    "validation_mse = mean_squared_error(y_validation, validation_prediction)\n",
    "train_mse = mean_squared_error(y_train, train_prediction)\n",
    "\n",
    "print(f\"Train: {train_mse}, Validation {validation_mse}\")"
   ]
  },
  {
   "cell_type": "code",
   "execution_count": 56,
   "metadata": {},
   "outputs": [],
   "source": [
    "L = 7\n",
    "train_mse_list = []\n",
    "validation_mse_list = []\n",
    "for K in range(1,51):\n",
    "    train_loader = TimeSeriesDataLoader(K, L, df_train)\n",
    "    x_train, y_train = train_loader.get_data()\n",
    "    train_loader = TimeSeriesDataLoader(K, L, df_validation)\n",
    "    x_validation, y_validation = train_loader.get_data()\n",
    "    reg = LinearRegression().fit(x_train, y_train)\n",
    "    train_prediction = reg.predict(x_train)\n",
    "    validation_prediction = reg.predict(x_validation)\n",
    "    validation_mse = np.sqrt(mean_squared_error(y_validation, validation_prediction))\n",
    "    train_mse = np.sqrt(mean_squared_error(y_train, train_prediction))\n",
    "    train_mse_list.append(train_mse)\n",
    "    validation_mse_list.append(validation_mse)\n"
   ]
  },
  {
   "cell_type": "code",
   "execution_count": 58,
   "metadata": {},
   "outputs": [
    {
     "data": {
      "image/png": "[encoded data removed]",
      "text/plain": [
       "<Figure size 432x288 with 1 Axes>"
      ]
     },
     "metadata": {
      "needs_background": "light"
     },
     "output_type": "display_data"
    }
   ],
   "source": [
    "import matplotlib.pyplot as plt\n",
    "\n",
    "plt.plot(range(1,51), train_mse_list)\n",
    "plt.plot(range(1,51), validation_mse_list)\n",
    "plt.show()"
   ]
  },
  {
   "cell_type": "code",
   "execution_count": 62,
   "metadata": {},
   "outputs": [
    {
     "data": {
      "text/plain": [
       "0.0400962093507372"
      ]
     },
     "execution_count": 62,
     "metadata": {},
     "output_type": "execute_result"
    }
   ],
   "source": [
    "validation_mse_list\n",
    "min(validation_mse_list)"
   ]
  }
 ],
 "metadata": {
  "kernelspec": {
   "display_name": "Python 3.8.9 64-bit",
   "language": "python",
   "name": "python3"
  },
  "language_info": {
   "codemirror_mode": {
    "name": "ipython",
    "version": 3
   },
   "file_extension": ".py",
   "mimetype": "text/x-python",
   "name": "python",
   "nbconvert_exporter": "python",
   "pygments_lexer": "ipython3",
   "version": "3.8.9"
  },
  "orig_nbformat": 4,
  "vscode": {
   "interpreter": {
    "hash": "31f2aee4e71d21fbe5cf8b01ff0e069b9275f58929596ceb00d14d90e3e16cd6"
   }
  }
 },
 "nbformat": 4,
 "nbformat_minor": 2
}
